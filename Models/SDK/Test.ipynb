{
 "cells": [
  {
   "cell_type": "code",
   "execution_count": 1,
   "outputs": [],
   "source": [
    "from PIL import Image\n",
    "from Generation_SDK import TextToImage"
   ],
   "metadata": {
    "collapsed": false,
    "ExecuteTime": {
     "end_time": "2024-01-16T12:42:52.712146800Z",
     "start_time": "2024-01-16T12:42:52.180914800Z"
    }
   },
   "id": "99c44959e43b80d0"
  },
  {
   "cell_type": "code",
   "execution_count": 2,
   "outputs": [],
   "source": [
    "MyGeneration = TextToImage(activation_key='sk-7kNckYYDo8QDgS2P4iJ4YvRxRTWqsxyb6kGDGNr0wi6k6AQd', image_size=512)"
   ],
   "metadata": {
    "collapsed": false,
    "ExecuteTime": {
     "end_time": "2024-01-16T12:42:56.436897700Z",
     "start_time": "2024-01-16T12:42:56.390018Z"
    }
   },
   "id": "50f6777bea4007c7"
  },
  {
   "cell_type": "code",
   "execution_count": 22,
   "outputs": [],
   "source": [
    "img = MyGeneration.generation('عکس سلفی سگ با عینک آفتابی در خیابان نیویورک، با جزئیات واقعی')"
   ],
   "metadata": {
    "collapsed": false,
    "ExecuteTime": {
     "end_time": "2024-01-16T13:00:08.744053400Z",
     "start_time": "2024-01-16T12:59:59.017123Z"
    }
   },
   "id": "37c25fb8dff90fe8"
  },
  {
   "cell_type": "code",
   "execution_count": 23,
   "outputs": [],
   "source": [
    "if img[1] == True:\n",
    "    img[0].show()"
   ],
   "metadata": {
    "collapsed": false,
    "ExecuteTime": {
     "end_time": "2024-01-16T13:00:12.122045200Z",
     "start_time": "2024-01-16T13:00:08.747095400Z"
    }
   },
   "id": "250ddc3c6effa3f1"
  },
  {
   "cell_type": "code",
   "execution_count": 4,
   "outputs": [],
   "source": [],
   "metadata": {
    "collapsed": false,
    "ExecuteTime": {
     "end_time": "2024-01-10T12:00:36.617273600Z",
     "start_time": "2024-01-10T12:00:36.601642600Z"
    }
   },
   "id": "e8783b9b7cf8028d"
  }
 ],
 "metadata": {
  "kernelspec": {
   "display_name": "Python 3",
   "language": "python",
   "name": "python3"
  },
  "language_info": {
   "codemirror_mode": {
    "name": "ipython",
    "version": 2
   },
   "file_extension": ".py",
   "mimetype": "text/x-python",
   "name": "python",
   "nbconvert_exporter": "python",
   "pygments_lexer": "ipython2",
   "version": "2.7.6"
  }
 },
 "nbformat": 4,
 "nbformat_minor": 5
}
